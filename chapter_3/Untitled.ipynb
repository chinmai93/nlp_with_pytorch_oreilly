{
 "cells": [
  {
   "cell_type": "code",
   "execution_count": 42,
   "id": "05f2cbe8",
   "metadata": {},
   "outputs": [],
   "source": [
    "class Car:\n",
    "    def __init__(self, wheels, doors, name=\"sedan\"):\n",
    "        self.name = name\n",
    "        self.wheels = wheels\n",
    "        self.doors = doors\n",
    "        \n",
    "    def __repr__(self):\n",
    "        return (\"Hi I am an awesome car named {}, with {} wheels, {} doors\".format(self.name, self.wheels, self.doors))\n",
    "\n",
    "    def flat(self, num=1):\n",
    "        if self.wheels > 0:\n",
    "            self.wheels -= num"
   ]
  },
  {
   "cell_type": "code",
   "execution_count": 50,
   "id": "fc288e8d",
   "metadata": {},
   "outputs": [],
   "source": [
    "car = Car(wheels=4, doors=4, name=\"Jeep\")"
   ]
  },
  {
   "cell_type": "code",
   "execution_count": 51,
   "id": "50c082e1",
   "metadata": {},
   "outputs": [
    {
     "name": "stdout",
     "output_type": "stream",
     "text": [
      "Hi I am an awesome car named Jeep, with 4 wheels, 4 doors\n"
     ]
    }
   ],
   "source": [
    "print(car)\n"
   ]
  },
  {
   "cell_type": "code",
   "execution_count": 52,
   "id": "a5e1d88f",
   "metadata": {},
   "outputs": [],
   "source": [
    "car.flat()\n"
   ]
  },
  {
   "cell_type": "code",
   "execution_count": 53,
   "id": "f3d29f5e",
   "metadata": {},
   "outputs": [
    {
     "name": "stdout",
     "output_type": "stream",
     "text": [
      "Hi I am an awesome car named Jeep, with 3 wheels, 4 doors\n"
     ]
    }
   ],
   "source": [
    "print(car)"
   ]
  },
  {
   "cell_type": "code",
   "execution_count": 54,
   "id": "16de80f4",
   "metadata": {},
   "outputs": [],
   "source": [
    "car.flat(2)"
   ]
  },
  {
   "cell_type": "code",
   "execution_count": 55,
   "id": "602a7b4d",
   "metadata": {},
   "outputs": [
    {
     "data": {
      "text/plain": [
       "Hi I am an awesome car named Jeep, with 1 wheels, 4 doors"
      ]
     },
     "execution_count": 55,
     "metadata": {},
     "output_type": "execute_result"
    }
   ],
   "source": [
    "car"
   ]
  },
  {
   "cell_type": "code",
   "execution_count": null,
   "id": "405a4ad3",
   "metadata": {},
   "outputs": [],
   "source": []
  }
 ],
 "metadata": {
  "kernelspec": {
   "display_name": "Python 3 (ipykernel)",
   "language": "python",
   "name": "python3"
  },
  "language_info": {
   "codemirror_mode": {
    "name": "ipython",
    "version": 3
   },
   "file_extension": ".py",
   "mimetype": "text/x-python",
   "name": "python",
   "nbconvert_exporter": "python",
   "pygments_lexer": "ipython3",
   "version": "3.8.13"
  }
 },
 "nbformat": 4,
 "nbformat_minor": 5
}
